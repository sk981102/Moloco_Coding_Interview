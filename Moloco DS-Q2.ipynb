{
 "cells": [
  {
   "cell_type": "code",
   "execution_count": 170,
   "metadata": {},
   "outputs": [],
   "source": [
    "import pandas as pd\n",
    "import numpy as np\n",
    "import warnings\n",
    "warnings.filterwarnings('ignore')\n",
    "#loading data\n",
    "df = pd.read_csv('Q2_data.csv',header= None)\n",
    "df.columns = ['A','B','C']\n"
   ]
  },
  {
   "cell_type": "code",
   "execution_count": 171,
   "metadata": {},
   "outputs": [
    {
     "data": {
      "text/html": [
       "<div>\n",
       "<style scoped>\n",
       "    .dataframe tbody tr th:only-of-type {\n",
       "        vertical-align: middle;\n",
       "    }\n",
       "\n",
       "    .dataframe tbody tr th {\n",
       "        vertical-align: top;\n",
       "    }\n",
       "\n",
       "    .dataframe thead th {\n",
       "        text-align: right;\n",
       "    }\n",
       "</style>\n",
       "<table border=\"1\" class=\"dataframe\">\n",
       "  <thead>\n",
       "    <tr style=\"text-align: right;\">\n",
       "      <th></th>\n",
       "      <th>A</th>\n",
       "      <th>B</th>\n",
       "      <th>C</th>\n",
       "    </tr>\n",
       "  </thead>\n",
       "  <tbody>\n",
       "    <tr>\n",
       "      <td>0</td>\n",
       "      <td>0.490</td>\n",
       "      <td>-0.18</td>\n",
       "      <td>11.50</td>\n",
       "    </tr>\n",
       "    <tr>\n",
       "      <td>1</td>\n",
       "      <td>-1.410</td>\n",
       "      <td>-1.23</td>\n",
       "      <td>11.80</td>\n",
       "    </tr>\n",
       "    <tr>\n",
       "      <td>2</td>\n",
       "      <td>0.943</td>\n",
       "      <td>4.51</td>\n",
       "      <td>-3.24</td>\n",
       "    </tr>\n",
       "    <tr>\n",
       "      <td>3</td>\n",
       "      <td>3.570</td>\n",
       "      <td>5.07</td>\n",
       "      <td>-23.90</td>\n",
       "    </tr>\n",
       "    <tr>\n",
       "      <td>4</td>\n",
       "      <td>-1.700</td>\n",
       "      <td>6.91</td>\n",
       "      <td>-22.10</td>\n",
       "    </tr>\n",
       "  </tbody>\n",
       "</table>\n",
       "</div>"
      ],
      "text/plain": [
       "       A     B      C\n",
       "0  0.490 -0.18  11.50\n",
       "1 -1.410 -1.23  11.80\n",
       "2  0.943  4.51  -3.24\n",
       "3  3.570  5.07 -23.90\n",
       "4 -1.700  6.91 -22.10"
      ]
     },
     "execution_count": 171,
     "metadata": {},
     "output_type": "execute_result"
    }
   ],
   "source": [
    "df.head()"
   ]
  },
  {
   "cell_type": "markdown",
   "metadata": {},
   "source": [
    "## EDA & Data Cleaning\n",
    "\n",
    "Data Cleanning: determine if there is any missing value, standardize the data if necessary\n",
    "\n"
   ]
  },
  {
   "cell_type": "code",
   "execution_count": 172,
   "metadata": {},
   "outputs": [
    {
     "data": {
      "text/plain": [
       "False"
      ]
     },
     "execution_count": 172,
     "metadata": {},
     "output_type": "execute_result"
    }
   ],
   "source": [
    "#checking if there is any missing values\n",
    "df.isnull().values.any()"
   ]
  },
  {
   "cell_type": "markdown",
   "metadata": {},
   "source": [
    "No missing values. Let's check if there is any outliers"
   ]
  },
  {
   "cell_type": "code",
   "execution_count": 173,
   "metadata": {},
   "outputs": [
    {
     "data": {
      "image/png": "[encoded data removed]",
      "text/plain": [
       "<Figure size 720x360 with 3 Axes>"
      ]
     },
     "metadata": {
      "needs_background": "light"
     },
     "output_type": "display_data"
    }
   ],
   "source": [
    "import matplotlib.pyplot as plt\n",
    "\n",
    "#plotting Boxplot\n",
    "plt.rcParams['figure.figsize'] = (10.0, 5.0)\n",
    "\n",
    "\n",
    "plt.figure(figsize=(10,5))\n",
    "plt.subplot(1, 3, 1)\n",
    "plt.boxplot(df['A'])\n",
    "plt.title('A',fontsize=20)\n",
    "plt.subplot(1, 3, 2)\n",
    "plt.boxplot(df['B'])\n",
    "plt.title('B',fontsize=20)\n",
    "plt.subplot(1, 3, 3)\n",
    "plt.boxplot(df['C'])\n",
    "plt.title('C',fontsize=20)\n",
    "plt.show()"
   ]
  },
  {
   "cell_type": "code",
   "execution_count": 174,
   "metadata": {},
   "outputs": [
    {
     "data": {
      "text/html": [
       "<div>\n",
       "<style scoped>\n",
       "    .dataframe tbody tr th:only-of-type {\n",
       "        vertical-align: middle;\n",
       "    }\n",
       "\n",
       "    .dataframe tbody tr th {\n",
       "        vertical-align: top;\n",
       "    }\n",
       "\n",
       "    .dataframe thead th {\n",
       "        text-align: right;\n",
       "    }\n",
       "</style>\n",
       "<table border=\"1\" class=\"dataframe\">\n",
       "  <thead>\n",
       "    <tr style=\"text-align: right;\">\n",
       "      <th></th>\n",
       "      <th>A</th>\n",
       "      <th>B</th>\n",
       "      <th>C</th>\n",
       "    </tr>\n",
       "  </thead>\n",
       "  <tbody>\n",
       "    <tr>\n",
       "      <td>A</td>\n",
       "      <td>1.000000</td>\n",
       "      <td>-0.187059</td>\n",
       "      <td>0.010536</td>\n",
       "    </tr>\n",
       "    <tr>\n",
       "      <td>B</td>\n",
       "      <td>-0.187059</td>\n",
       "      <td>1.000000</td>\n",
       "      <td>-0.618516</td>\n",
       "    </tr>\n",
       "    <tr>\n",
       "      <td>C</td>\n",
       "      <td>0.010536</td>\n",
       "      <td>-0.618516</td>\n",
       "      <td>1.000000</td>\n",
       "    </tr>\n",
       "  </tbody>\n",
       "</table>\n",
       "</div>"
      ],
      "text/plain": [
       "          A         B         C\n",
       "A  1.000000 -0.187059  0.010536\n",
       "B -0.187059  1.000000 -0.618516\n",
       "C  0.010536 -0.618516  1.000000"
      ]
     },
     "execution_count": 174,
     "metadata": {},
     "output_type": "execute_result"
    }
   ],
   "source": [
    "#getting rid of the minimum C value\n",
    "df_prepared = df[df['C'] != min(df['C'])]\n",
    "\n",
    "#Checking the Correlations\n",
    "corr_matrix=df_prepared.corr()\n",
    "corr_matrix\n",
    "\n",
    "\n",
    "#the correlation between A and C is low\n",
    "#the correlation between B and C is over 0.5 "
   ]
  },
  {
   "cell_type": "code",
   "execution_count": 175,
   "metadata": {},
   "outputs": [],
   "source": [
    "#Standardizing the Data\n",
    "df_prepared['A']=(df_prepared['A']-np.mean(df_prepared['A']))/np.std(df_prepared['A'])\n",
    "df_prepared['B']=(df_prepared['B']-np.mean(df_prepared['B']))/np.std(df_prepared['B'])\n",
    "\n",
    "#Splitting train and test:\n",
    "# This is particularly important when we test polynomial with higher degree as those models are particularly \n",
    "# susceptible to overfitting\n",
    "\n",
    "def split_train_test(data, test_ratio):\n",
    "    \"\"\"An simple implementation of the spliting into train and test sets\"\"\"\n",
    "    shuffled_indices = np.random.permutation(len(data)) # Give it random indexes\n",
    "    test_set_size = int(len(data) * test_ratio) # split into ratio\n",
    "    test_indices = shuffled_indices[:test_set_size] # extract index of test examples\n",
    "    train_indices = shuffled_indices[test_set_size:] # extract index of train examples\n",
    "    return data.iloc[train_indices], data.iloc[test_indices] # return the splited data\n",
    "\n",
    "train, test = split_train_test(df_prepared, 0.2)\n",
    "X_train=(train.iloc[:,:-1])\n",
    "X_test=test.iloc[:,:-1]\n",
    "\n",
    "y_test=test['C']\n",
    "y_train=train['C']"
   ]
  },
  {
   "cell_type": "code",
   "execution_count": 130,
   "metadata": {},
   "outputs": [
    {
     "data": {
      "text/plain": [
       "((array([-2.83163513, -2.53513316, -2.36724083, -2.24759425, -2.1534557 ,\n",
       "         -2.07524656, -2.00798865, -1.94874985, -1.89565172, -1.84741566,\n",
       "         -1.80313046, -1.76212289, -1.72388091, -1.68800561, -1.65417993,\n",
       "         -1.62214751, -1.59169801, -1.56265662, -1.53487641, -1.50823263,\n",
       "         -1.48261848, -1.4579417 , -1.4341221 , -1.41108949, -1.38878205,\n",
       "         -1.36714505, -1.34612982, -1.32569284, -1.30579504, -1.28640121,\n",
       "         -1.26747952, -1.24900105, -1.23093949, -1.21327079, -1.19597295,\n",
       "         -1.17902575, -1.16241058, -1.14611025, -1.13010889, -1.11439177,\n",
       "         -1.09894522, -1.08375652, -1.06881381, -1.05410601, -1.03962278,\n",
       "         -1.0253544 , -1.01129177, -0.99742634, -0.98375006, -0.97025535,\n",
       "         -0.95693505, -0.94378242, -0.93079107, -0.91795493, -0.9052683 ,\n",
       "         -0.89272572, -0.88032203, -0.86805232, -0.85591192, -0.84389639,\n",
       "         -0.83200147, -0.82022312, -0.80855748, -0.79700085, -0.7855497 ,\n",
       "         -0.77420064, -0.76295043, -0.75179597, -0.74073427, -0.72976248,\n",
       "         -0.71887784, -0.70807771, -0.69735955, -0.68672092, -0.67615944,\n",
       "         -0.66567285, -0.65525896, -0.64491566, -0.63464089, -0.62443269,\n",
       "         -0.61428915, -0.60420843, -0.59418874, -0.58422835, -0.57432559,\n",
       "         -0.56447883, -0.5546865 , -0.54494707, -0.53525906, -0.52562104,\n",
       "         -0.51603159, -0.50648937, -0.49699304, -0.48754132, -0.47813296,\n",
       "         -0.46876673, -0.45944145, -0.45015595, -0.4409091 , -0.4316998 ,\n",
       "         -0.42252697, -0.41338955, -0.40428652, -0.39521687, -0.38617961,\n",
       "         -0.37717378, -0.36819845, -0.35925267, -0.35033556, -0.34144621,\n",
       "         -0.33258377, -0.32374737, -0.31493617, -0.30614937, -0.29738613,\n",
       "         -0.28864568, -0.27992722, -0.27122998, -0.26255322, -0.25389618,\n",
       "         -0.24525812, -0.23663833, -0.22803608, -0.21945067, -0.21088141,\n",
       "         -0.20232761, -0.19378859, -0.18526367, -0.1767522 , -0.16825351,\n",
       "         -0.15976696, -0.1512919 , -0.14282769, -0.1343737 , -0.12592931,\n",
       "         -0.11749388, -0.10906681, -0.10064748, -0.09223527, -0.08382959,\n",
       "         -0.07542982, -0.06703538, -0.05864565, -0.05026006, -0.04187799,\n",
       "         -0.03349887, -0.02512209, -0.01674708, -0.00837325,  0.        ,\n",
       "          0.00837325,  0.01674708,  0.02512209,  0.03349887,  0.04187799,\n",
       "          0.05026006,  0.05864565,  0.06703538,  0.07542982,  0.08382959,\n",
       "          0.09223527,  0.10064748,  0.10906681,  0.11749388,  0.12592931,\n",
       "          0.1343737 ,  0.14282769,  0.1512919 ,  0.15976696,  0.16825351,\n",
       "          0.1767522 ,  0.18526367,  0.19378859,  0.20232761,  0.21088141,\n",
       "          0.21945067,  0.22803608,  0.23663833,  0.24525812,  0.25389618,\n",
       "          0.26255322,  0.27122998,  0.27992722,  0.28864568,  0.29738613,\n",
       "          0.30614937,  0.31493617,  0.32374737,  0.33258377,  0.34144621,\n",
       "          0.35033556,  0.35925267,  0.36819845,  0.37717378,  0.38617961,\n",
       "          0.39521687,  0.40428652,  0.41338955,  0.42252697,  0.4316998 ,\n",
       "          0.4409091 ,  0.45015595,  0.45944145,  0.46876673,  0.47813296,\n",
       "          0.48754132,  0.49699304,  0.50648937,  0.51603159,  0.52562104,\n",
       "          0.53525906,  0.54494707,  0.5546865 ,  0.56447883,  0.57432559,\n",
       "          0.58422835,  0.59418874,  0.60420843,  0.61428915,  0.62443269,\n",
       "          0.63464089,  0.64491566,  0.65525896,  0.66567285,  0.67615944,\n",
       "          0.68672092,  0.69735955,  0.70807771,  0.71887784,  0.72976248,\n",
       "          0.74073427,  0.75179597,  0.76295043,  0.77420064,  0.7855497 ,\n",
       "          0.79700085,  0.80855748,  0.82022312,  0.83200147,  0.84389639,\n",
       "          0.85591192,  0.86805232,  0.88032203,  0.89272572,  0.9052683 ,\n",
       "          0.91795493,  0.93079107,  0.94378242,  0.95693505,  0.97025535,\n",
       "          0.98375006,  0.99742634,  1.01129177,  1.0253544 ,  1.03962278,\n",
       "          1.05410601,  1.06881381,  1.08375652,  1.09894522,  1.11439177,\n",
       "          1.13010889,  1.14611025,  1.16241058,  1.17902575,  1.19597295,\n",
       "          1.21327079,  1.23093949,  1.24900105,  1.26747952,  1.28640121,\n",
       "          1.30579504,  1.32569284,  1.34612982,  1.36714505,  1.38878205,\n",
       "          1.41108949,  1.4341221 ,  1.4579417 ,  1.48261848,  1.50823263,\n",
       "          1.53487641,  1.56265662,  1.59169801,  1.62214751,  1.65417993,\n",
       "          1.68800561,  1.72388091,  1.76212289,  1.80313046,  1.84741566,\n",
       "          1.89565172,  1.94874985,  2.00798865,  2.07524656,  2.1534557 ,\n",
       "          2.24759425,  2.36724083,  2.53513316,  2.83163513]),\n",
       "  array([-3.15e+02, -2.89e+02, -2.88e+02, -2.86e+02, -2.86e+02, -2.81e+02,\n",
       "         -2.52e+02, -2.48e+02, -1.95e+02, -1.92e+02, -1.91e+02, -1.56e+02,\n",
       "         -1.48e+02, -1.44e+02, -1.36e+02, -1.35e+02, -1.26e+02, -1.20e+02,\n",
       "         -1.10e+02, -1.02e+02, -1.01e+02, -1.00e+02, -9.97e+01, -9.77e+01,\n",
       "         -9.26e+01, -9.23e+01, -8.37e+01, -8.22e+01, -7.93e+01, -7.84e+01,\n",
       "         -7.80e+01, -7.35e+01, -7.00e+01, -6.84e+01, -6.72e+01, -6.38e+01,\n",
       "         -5.94e+01, -5.93e+01, -5.87e+01, -5.68e+01, -5.66e+01, -5.62e+01,\n",
       "         -4.82e+01, -4.69e+01, -4.64e+01, -4.39e+01, -4.38e+01, -4.34e+01,\n",
       "         -4.22e+01, -4.21e+01, -4.21e+01, -4.19e+01, -4.00e+01, -3.98e+01,\n",
       "         -3.55e+01, -3.53e+01, -3.37e+01, -3.35e+01, -3.27e+01, -3.23e+01,\n",
       "         -3.19e+01, -3.18e+01, -3.18e+01, -3.13e+01, -3.09e+01, -2.98e+01,\n",
       "         -2.98e+01, -2.89e+01, -2.89e+01, -2.86e+01, -2.52e+01, -2.43e+01,\n",
       "         -2.43e+01, -2.39e+01, -2.32e+01, -2.30e+01, -2.21e+01, -2.07e+01,\n",
       "         -2.04e+01, -1.97e+01, -1.93e+01, -1.86e+01, -1.84e+01, -1.77e+01,\n",
       "         -1.76e+01, -1.76e+01, -1.64e+01, -1.60e+01, -1.58e+01, -1.52e+01,\n",
       "         -1.40e+01, -1.37e+01, -1.34e+01, -1.34e+01, -1.34e+01, -1.34e+01,\n",
       "         -1.28e+01, -1.27e+01, -1.20e+01, -1.20e+01, -1.19e+01, -1.18e+01,\n",
       "         -1.15e+01, -1.14e+01, -1.13e+01, -1.11e+01, -1.05e+01, -1.05e+01,\n",
       "         -1.02e+01, -1.02e+01, -1.01e+01, -9.90e+00, -9.65e+00, -9.59e+00,\n",
       "         -9.16e+00, -9.06e+00, -8.88e+00, -8.66e+00, -8.29e+00, -8.28e+00,\n",
       "         -8.28e+00, -8.19e+00, -8.12e+00, -7.76e+00, -7.74e+00, -7.15e+00,\n",
       "         -7.12e+00, -6.93e+00, -6.62e+00, -6.37e+00, -6.21e+00, -6.16e+00,\n",
       "         -6.05e+00, -5.93e+00, -5.92e+00, -5.83e+00, -5.77e+00, -5.76e+00,\n",
       "         -5.40e+00, -5.38e+00, -4.92e+00, -4.87e+00, -4.75e+00, -4.21e+00,\n",
       "         -4.17e+00, -4.03e+00, -4.01e+00, -3.54e+00, -3.24e+00, -2.94e+00,\n",
       "         -2.56e+00, -2.51e+00, -2.15e+00, -1.63e+00, -1.60e+00, -1.35e+00,\n",
       "         -1.18e+00, -5.72e-01, -5.46e-01, -3.22e-01, -2.91e-01, -3.46e-02,\n",
       "          4.37e-01,  7.63e-01,  8.38e-01,  9.92e-01,  1.39e+00,  1.53e+00,\n",
       "          1.91e+00,  2.03e+00,  2.51e+00,  2.72e+00,  2.91e+00,  2.94e+00,\n",
       "          2.98e+00,  3.01e+00,  3.11e+00,  3.21e+00,  3.36e+00,  3.42e+00,\n",
       "          3.62e+00,  4.03e+00,  4.12e+00,  4.24e+00,  4.60e+00,  4.81e+00,\n",
       "          5.13e+00,  5.41e+00,  5.53e+00,  5.63e+00,  5.87e+00,  6.44e+00,\n",
       "          7.27e+00,  7.35e+00,  7.46e+00,  7.63e+00,  7.88e+00,  8.03e+00,\n",
       "          8.70e+00,  9.41e+00,  9.41e+00,  9.98e+00,  1.00e+01,  1.06e+01,\n",
       "          1.13e+01,  1.13e+01,  1.15e+01,  1.17e+01,  1.18e+01,  1.19e+01,\n",
       "          1.19e+01,  1.22e+01,  1.25e+01,  1.33e+01,  1.36e+01,  1.43e+01,\n",
       "          1.46e+01,  1.54e+01,  1.55e+01,  1.56e+01,  1.58e+01,  1.58e+01,\n",
       "          1.59e+01,  1.63e+01,  1.63e+01,  1.65e+01,  1.66e+01,  1.67e+01,\n",
       "          1.68e+01,  1.75e+01,  1.75e+01,  1.77e+01,  1.86e+01,  1.88e+01,\n",
       "          1.88e+01,  1.92e+01,  1.94e+01,  2.01e+01,  2.20e+01,  2.24e+01,\n",
       "          2.27e+01,  2.28e+01,  2.41e+01,  2.41e+01,  2.43e+01,  2.44e+01,\n",
       "          2.53e+01,  2.56e+01,  2.74e+01,  2.89e+01,  3.14e+01,  3.27e+01,\n",
       "          3.32e+01,  3.36e+01,  3.52e+01,  3.82e+01,  3.86e+01,  3.87e+01,\n",
       "          3.93e+01,  3.98e+01,  4.41e+01,  4.87e+01,  4.90e+01,  4.92e+01,\n",
       "          4.94e+01,  5.50e+01,  5.71e+01,  6.02e+01,  6.40e+01,  6.63e+01,\n",
       "          6.70e+01,  7.07e+01,  7.13e+01,  7.51e+01,  7.76e+01,  8.51e+01,\n",
       "          8.72e+01,  9.08e+01,  9.10e+01,  9.30e+01,  9.48e+01,  9.63e+01,\n",
       "          9.76e+01,  9.79e+01,  1.02e+02,  1.03e+02,  1.08e+02,  1.13e+02,\n",
       "          1.15e+02,  1.17e+02,  1.26e+02,  1.27e+02,  1.40e+02,  1.43e+02,\n",
       "          1.54e+02,  1.55e+02,  1.64e+02,  1.65e+02,  2.02e+02])),\n",
       " (65.85208356655615, -8.25911571906354, 0.9175333899225723))"
      ]
     },
     "execution_count": 130,
     "metadata": {},
     "output_type": "execute_result"
    },
    {
     "data": {
      "image/png": "[encoded data removed]",
      "text/plain": [
       "<Figure size 720x360 with 1 Axes>"
      ]
     },
     "metadata": {
      "needs_background": "light"
     },
     "output_type": "display_data"
    }
   ],
   "source": [
    "scipy.stats.probplot(y.values, dist=\"norm\", plot=plt)"
   ]
  },
  {
   "cell_type": "markdown",
   "metadata": {},
   "source": [
    "\n",
    "## Implementing Linear Regression\n",
    "Based on the eda, the linear regression would not work well especially because of the variable A. Here, we will implement both linear regression to see if one performs better than the other. For simplicity, we are going to fit the data using normal equation for linear regression and for logistic regression, we are going to use gradient descent.\n",
    "\n"
   ]
  },
  {
   "cell_type": "code",
   "execution_count": 116,
   "metadata": {},
   "outputs": [],
   "source": [
    "def rmse(y, y_pred):\n",
    "    rmse = np.sqrt(sum((y - y_predict) ** 2) / len(y))\n",
    "    return rmse\n",
    "\n",
    "def r2(y,y_predict):\n",
    "    sst=np.sum((y-np.mean(y))**2)\n",
    "    sse=np.sum((y-y_predict)**2)\n",
    "    return 1-(sse/sst)\n",
    "\n",
    "class MyLinearRegression:\n",
    "    def __init__ (self,i):\n",
    "        \"\"\"\n",
    "        Initializing the regressor\n",
    "        \"\"\"\n",
    "        self.theta=np.zeros(i,float)[:,np.newaxis]; #parameter vector; random\n",
    "    \n",
    "    def fitUsingNormalEquation(self,X_train,y_train):\n",
    "        \"\"\"\n",
    "        Training using the Closed Form Equation\n",
    "        \"\"\"\n",
    "        X_b=np.c_[np.ones(len(X_train)),X_train] #adding additional column\n",
    "        theta_best=np.linalg.pinv(X_b.T.dot(X_b)).dot(X_b.T).dot(y_train)\n",
    "        self.theta=theta_best\n",
    "    \n",
    "    def predict(self,X_test):\n",
    "        \"\"\"\n",
    "        Predicting the label\n",
    "        \"\"\"\n",
    "        X_test = np.c_[np.ones((len(X_test),1)), X_test]\n",
    "        y_predict = np.dot(X_test,self.theta)\n",
    "        \n",
    "        return y_predict\n",
    "    "
   ]
  },
  {
   "cell_type": "markdown",
   "metadata": {},
   "source": [
    "## Models"
   ]
  },
  {
   "cell_type": "code",
   "execution_count": 176,
   "metadata": {},
   "outputs": [
    {
     "name": "stdout",
     "output_type": "stream",
     "text": [
      "test rmse: 65.4043661960696\n",
      "r^2: 0.23552381755424157\n"
     ]
    }
   ],
   "source": [
    "## Linear Regression\n",
    "    \n",
    "\n",
    "# Model 1: Regular\n",
    "model1= MyLinearRegression(2)\n",
    "model1.fitUsingNormalEquation(X_train.values,y_train.values)\n",
    "y_predict =model1.predict(X_test.values)\n",
    "rmse1=rmse(y_test.values, y_predict)\n",
    "r2_1=r2(y_test.values, y_predict)\n",
    "\n",
    "\n",
    "print(\"test rmse:\",rmse1)\n",
    "print(\"r^2:\",r2_1)"
   ]
  },
  {
   "cell_type": "code",
   "execution_count": 151,
   "metadata": {},
   "outputs": [
    {
     "data": {
      "text/plain": [
       "71.20250489661885"
      ]
     },
     "execution_count": 151,
     "metadata": {},
     "output_type": "execute_result"
    }
   ],
   "source": [
    "np.std(y.values)"
   ]
  },
  {
   "cell_type": "markdown",
   "metadata": {},
   "source": [
    "Given that the standard deviation of y (C) value is 71.2025, the model1 is performance is relatively good as the rmse is smaller than 1 standard deviation. However, based on our correlation matrix and qq plot, we knew that the linear model might not be the best. We will also add a polynomial term on the linear regression especially variable A as well as other interaction terms."
   ]
  },
  {
   "cell_type": "code",
   "execution_count": 177,
   "metadata": {},
   "outputs": [
    {
     "name": "stdout",
     "output_type": "stream",
     "text": [
      "test rmse: 66.30635909864421\n",
      "r^2: 0.21429260794645022\n"
     ]
    }
   ],
   "source": [
    "# Model 2: Polynomial Equation B**2\n",
    "\n",
    "X_train['B2']=X_train['B']**2\n",
    "X_test['B2']=X_test['B']**2\n",
    "\n",
    "model2= MyLinearRegression(3)\n",
    "model2.fitUsingNormalEquation(X_train.values,y_train.values)\n",
    "y_predict =model2.predict(X_test.values)\n",
    "rmse2=rmse(y_test.values, y_predict)\n",
    "r2_2=r2(y_test.values, y_predict)\n",
    "\n",
    "print(\"test rmse:\",rmse2)\n",
    "print(\"r^2:\",r2_2)\n"
   ]
  },
  {
   "cell_type": "markdown",
   "metadata": {},
   "source": [
    "The test rmse increased from linear model; adding $b^2$ is not effective"
   ]
  },
  {
   "cell_type": "code",
   "execution_count": 181,
   "metadata": {},
   "outputs": [
    {
     "name": "stdout",
     "output_type": "stream",
     "text": [
      "test rmse: 63.17020818681894\n",
      "r^2: 0.28685951382907726\n"
     ]
    }
   ],
   "source": [
    "# Model 3:Polynomial Equation A**2\n",
    "#resetting the data\n",
    "X_train=(train.iloc[:,:-1])\n",
    "X_test=test.iloc[:,:-1]\n",
    "\n",
    "y_test=test['C']\n",
    "y_train=train['C']\n",
    "\n",
    "#adding square of A\n",
    "X_train['A2']=X_train['A']**2\n",
    "X_test['A2']=X_test['A']**2\n",
    "\n",
    "model3= MyLinearRegression(3)\n",
    "model3.fitUsingNormalEquation(X_train.values,y_train.values)\n",
    "y_predict =model3.predict(X_test.values)\n",
    "rmse3=rmse(y_test.values, y_predict)\n",
    "r2_3=r2(y_test.values, y_predict)\n",
    "\n",
    "print(\"test rmse:\",rmse3)\n",
    "print(\"r^2:\",r2_3)\n"
   ]
  },
  {
   "cell_type": "markdown",
   "metadata": {},
   "source": [
    "The test rmse decreased around 2.2. This is performing better than the linear regression. Now we are going to add both $b^2$ and $a^2$"
   ]
  },
  {
   "cell_type": "code",
   "execution_count": 189,
   "metadata": {},
   "outputs": [
    {
     "name": "stdout",
     "output_type": "stream",
     "text": [
      "rmse: 43.4425958881718\n",
      "r^2: 0.6627266602104427\n"
     ]
    }
   ],
   "source": [
    "# Model 4: Polynomial Equation B**2 with A**2\n",
    "X_train['B2']=X_train['B']**2\n",
    "X_test['B2']=X_test['B']**2\n",
    "\n",
    "model4= MyLinearRegression(3)\n",
    "model4.fitUsingNormalEquation(X_train.values,y_train.values)\n",
    "y_predict =model4.predict(X_test.values)\n",
    "rmse4=rmse(y_test.values, y_predict)\n",
    "r2_4=r2(y_test.values, y_predict)\n",
    "\n",
    "print(\"rmse:\",rmse4)\n",
    "print(\"r^2:\",r2_4)"
   ]
  },
  {
   "cell_type": "markdown",
   "metadata": {},
   "source": [
    "This is the best model so far with the lowest rmse and highest $r^2$. I also want to test interaction variable and how it performs for the next model."
   ]
  },
  {
   "cell_type": "code",
   "execution_count": 190,
   "metadata": {},
   "outputs": [
    {
     "name": "stdout",
     "output_type": "stream",
     "text": [
      "test rmse: 65.47528125549218\n",
      "r^2: 0.23386514345127696\n"
     ]
    }
   ],
   "source": [
    "# Model 5: Polynomial Equation A\n",
    "#resetting the data\n",
    "X_train=(train.iloc[:,:-1])\n",
    "X_test=test.iloc[:,:-1]\n",
    "\n",
    "y_test=test['C']\n",
    "y_train=train['C']\n",
    "\n",
    "#adding interaction variable\n",
    "X_train['AB']=X_train['A']*X_train['B']\n",
    "X_test['AB']=X_test['A']*X_test['B']\n",
    "\n",
    "model5= MyLinearRegression(3)\n",
    "model5.fitUsingNormalEquation(X_train.values,y_train.values)\n",
    "y_predict =model3.predict(X_test.values)\n",
    "rmse5=rmse(y_test.values, y_predict)\n",
    "r2_5=r2(y_test.values, y_predict)\n",
    "\n",
    "print(\"test rmse:\",rmse5)\n",
    "print(\"r^2:\",r2_5)\n"
   ]
  },
  {
   "cell_type": "markdown",
   "metadata": {},
   "source": [
    "Out of the five models tested, model 4 with polynomial regression of $A^2$ and $B^2$ was the best performing model. The final rmse was 43.4425958881718 and $r^2$ was 0.6627, which are drastic improvements from the initial rmse of  All the models rmse were based on the test set prediction, which alleviates the potential problem of overfitting.However, for future studies, if there is a greater number of samples, I would like to implement 5-fold cross-validation to make sure to account for overfitting.\n"
   ]
  },
  {
   "cell_type": "code",
   "execution_count": null,
   "metadata": {},
   "outputs": [],
   "source": []
  }
 ],
 "metadata": {
  "kernelspec": {
   "display_name": "Python 3",
   "language": "python",
   "name": "python3"
  },
  "language_info": {
   "codemirror_mode": {
    "name": "ipython",
    "version": 3
   },
   "file_extension": ".py",
   "mimetype": "text/x-python",
   "name": "python",
   "nbconvert_exporter": "python",
   "pygments_lexer": "ipython3",
   "version": "3.7.4"
  }
 },
 "nbformat": 4,
 "nbformat_minor": 2
}
