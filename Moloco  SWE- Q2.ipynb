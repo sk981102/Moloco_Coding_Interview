{
 "cells": [
  {
   "cell_type": "code",
   "execution_count": 32,
   "metadata": {},
   "outputs": [],
   "source": [
    "import json\n",
    "import pandas as pd\n",
    "import numpy as np\n",
    "\n",
    "#reading the data\n",
    "p= pd.Series(open('SWE sample data - Q2 data.csv').read().splitlines())\n",
    "products = pd.DataFrame()\n",
    "\n",
    "products[\"user_id\"]=p.str.split(\"\\\"\").str[7]\n",
    "products[\"product_id\"]=p.str.split(\"\\\"\").str[15]\n",
    "products[\"quantity\"]=((p.str.split(\"\\\"\").str[21]).str.split(\":\").str[1]).str.split(\"}\").str[0].astype(int)"
   ]
  },
  {
   "cell_type": "code",
   "execution_count": 33,
   "metadata": {},
   "outputs": [
    {
     "data": {
      "text/html": [
       "<div>\n",
       "<style scoped>\n",
       "    .dataframe tbody tr th:only-of-type {\n",
       "        vertical-align: middle;\n",
       "    }\n",
       "\n",
       "    .dataframe tbody tr th {\n",
       "        vertical-align: top;\n",
       "    }\n",
       "\n",
       "    .dataframe thead th {\n",
       "        text-align: right;\n",
       "    }\n",
       "</style>\n",
       "<table border=\"1\" class=\"dataframe\">\n",
       "  <thead>\n",
       "    <tr style=\"text-align: right;\">\n",
       "      <th></th>\n",
       "      <th>user_id</th>\n",
       "      <th>product_id</th>\n",
       "      <th>quantity</th>\n",
       "    </tr>\n",
       "  </thead>\n",
       "  <tbody>\n",
       "    <tr>\n",
       "      <td>0</td>\n",
       "      <td>KB/WRFTC</td>\n",
       "      <td>F5H</td>\n",
       "      <td>88</td>\n",
       "    </tr>\n",
       "    <tr>\n",
       "      <td>1</td>\n",
       "      <td>KB/WRFTC</td>\n",
       "      <td>F5H</td>\n",
       "      <td>12</td>\n",
       "    </tr>\n",
       "    <tr>\n",
       "      <td>2</td>\n",
       "      <td>KB/WRFTC</td>\n",
       "      <td>F5H</td>\n",
       "      <td>46</td>\n",
       "    </tr>\n",
       "    <tr>\n",
       "      <td>3</td>\n",
       "      <td>KB/WRFTC</td>\n",
       "      <td>F5H</td>\n",
       "      <td>39</td>\n",
       "    </tr>\n",
       "    <tr>\n",
       "      <td>4</td>\n",
       "      <td>KB/WRFTC</td>\n",
       "      <td>F5H</td>\n",
       "      <td>46</td>\n",
       "    </tr>\n",
       "  </tbody>\n",
       "</table>\n",
       "</div>"
      ],
      "text/plain": [
       "    user_id product_id  quantity\n",
       "0  KB/WRFTC        F5H        88\n",
       "1  KB/WRFTC        F5H        12\n",
       "2  KB/WRFTC        F5H        46\n",
       "3  KB/WRFTC        F5H        39\n",
       "4  KB/WRFTC        F5H        46"
      ]
     },
     "execution_count": 33,
     "metadata": {},
     "output_type": "execute_result"
    }
   ],
   "source": [
    "products.head()"
   ]
  },
  {
   "cell_type": "code",
   "execution_count": 49,
   "metadata": {},
   "outputs": [
    {
     "data": {
      "text/plain": [
       "'GXX'"
      ]
     },
     "execution_count": 49,
     "metadata": {},
     "output_type": "execute_result"
    }
   ],
   "source": [
    "#Ranking Method 1: Based on the unique number of users who purchased each product\n",
    "p_ids= dict.fromkeys(products['product_id'], 0)\n",
    "\n",
    "for i in range(len(products)):\n",
    "    p_ids[products.iloc[i][1]]+=1\n",
    "\n",
    "p_ids={k: v for k, v in sorted(p_ids.items(), key=lambda item: item[1],reverse=True)}\n",
    "next(iter(p_ids)) # outputs 'the top 1'"
   ]
  },
  {
   "cell_type": "code",
   "execution_count": 48,
   "metadata": {},
   "outputs": [
    {
     "data": {
      "text/plain": [
       "{'GXX': 908, '5Y0': 687, 'AI7': 509, 'F5H': 145, '2MI': 124}"
      ]
     },
     "execution_count": 48,
     "metadata": {},
     "output_type": "execute_result"
    }
   ],
   "source": [
    "# Ranking Method 2: Based on the total quantity of each product sold.\n",
    "\n"
   ]
  },
  {
   "cell_type": "code",
   "execution_count": null,
   "metadata": {},
   "outputs": [],
   "source": []
  },
  {
   "cell_type": "code",
   "execution_count": null,
   "metadata": {},
   "outputs": [],
   "source": []
  }
 ],
 "metadata": {
  "kernelspec": {
   "display_name": "Python 3",
   "language": "python",
   "name": "python3"
  },
  "language_info": {
   "codemirror_mode": {
    "name": "ipython",
    "version": 3
   },
   "file_extension": ".py",
   "mimetype": "text/x-python",
   "name": "python",
   "nbconvert_exporter": "python",
   "pygments_lexer": "ipython3",
   "version": "3.7.4"
  }
 },
 "nbformat": 4,
 "nbformat_minor": 2
}
