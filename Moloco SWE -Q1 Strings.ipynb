{
 "cells": [
  {
   "cell_type": "markdown",
   "metadata": {},
   "source": [
    "Using one of the languages from {Go, Python, Java, C++},\n",
    "implement a function/method that is given two strings and returns whether one can be obtained by the other after removing exactly one character. \n",
    "Specifically, given two strings x and y, return true if and only if (1) x can be obtained by removing one character from y and/or (2) if y can be obtained by removing one character from x.\n",
    "\n",
    "Assume that both strings only contain English alphabets and that neither is an empty string.\n",
    "Note that x and y can be quite long (each containing millions of characters).\n",
    "\n",
    "*Please avoid solutions that would run in O(|x| * |y|) time in worst case as those solutions would be too inefficient if the given strings are long.\n",
    "\n",
    "Implement this function/method and submit a link to your code (answer) below.\n",
    "You can share via a link to your code using free websites like https://gist.github.com/ or ideone.com.\n",
    "\n",
    "\n",
    "\n",
    "Examples:\n",
    "\n",
    "The following inputs should return False:\n",
    "\n",
    "equalsWhenOneCharRemoved(\"x\", \"y\")\n",
    "\n",
    "equalsWhenOneCharRemoved(\"x\", \"XX\")\n",
    "\n",
    "equalsWhenOneCharRemoved(\"yy\", \"yx\")\n",
    "\n",
    "The following inputs should return True:\n",
    "\n",
    "equalsWhenOneCharRemoved(\"abcd\", \"abxcd\")\n",
    "\n",
    "equalsWhenOneCharRemoved(\"xyz\", \"xz\")\n",
    "\n"
   ]
  },
  {
   "cell_type": "code",
   "execution_count": 4,
   "metadata": {},
   "outputs": [],
   "source": [
    "import numpy as np\n",
    "\n",
    "def equalsWhenOneCharRemoved(x, y):\n",
    "    lenX=len(x)\n",
    "    lenY=len(y)\n",
    "    \n",
    "    #Case 1: if the length of each string is equal to each other (cannot remove)\n",
    "    if lenX==lenY:\n",
    "        return False\n",
    "    \n",
    "    #Case 2: if the difference in string length is greater than 1\n",
    "    if np.abs(lenX-lenY)>1:\n",
    "        return False\n",
    "    \n",
    "    ind1=0\n",
    "    ind2=0\n",
    "    diff=0\n",
    "    \n",
    "    #Case 3: When the length difference is 1 & whether the rest of the string besides 1 char is not equal\n",
    "    while ind1<lenX and ind2<lenY:\n",
    "        charX=x[ind1]\n",
    "        charY=y[ind2]\n",
    "        \n",
    "        if charX!=charY:\n",
    "            diff+=1\n",
    "            if lenX>lenY:\n",
    "                ind1+=1\n",
    "            if lenY>lenX:\n",
    "                ind2+=1\n",
    "        else:\n",
    "            ind1+=1\n",
    "            ind2+=1\n",
    "        \n",
    "        if diff>1:\n",
    "            return False\n",
    "\n",
    "    return True"
   ]
  },
  {
   "cell_type": "code",
   "execution_count": 5,
   "metadata": {},
   "outputs": [
    {
     "data": {
      "text/plain": [
       "True"
      ]
     },
     "execution_count": 5,
     "metadata": {},
     "output_type": "execute_result"
    }
   ],
   "source": [
    "## TEST Case 1\n",
    "equalsWhenOneCharRemoved(\"X\",\"XY\")"
   ]
  },
  {
   "cell_type": "code",
   "execution_count": 6,
   "metadata": {},
   "outputs": [
    {
     "data": {
      "text/plain": [
       "False"
      ]
     },
     "execution_count": 6,
     "metadata": {},
     "output_type": "execute_result"
    }
   ],
   "source": [
    "## TEST Case 2\n",
    "equalsWhenOneCharRemoved(\"X\",\"xY\")"
   ]
  },
  {
   "cell_type": "code",
   "execution_count": 7,
   "metadata": {},
   "outputs": [
    {
     "data": {
      "text/plain": [
       "False"
      ]
     },
     "execution_count": 7,
     "metadata": {},
     "output_type": "execute_result"
    }
   ],
   "source": [
    "## TEST Case 3\n",
    "equalsWhenOneCharRemoved(\"x\",\"x\")"
   ]
  },
  {
   "cell_type": "code",
   "execution_count": 8,
   "metadata": {},
   "outputs": [
    {
     "data": {
      "text/plain": [
       "True"
      ]
     },
     "execution_count": 8,
     "metadata": {},
     "output_type": "execute_result"
    }
   ],
   "source": [
    "## TEST Case 4\n",
    "equalsWhenOneCharRemoved(\"abcdde\",\"abcdd\")"
   ]
  },
  {
   "cell_type": "code",
   "execution_count": 9,
   "metadata": {},
   "outputs": [
    {
     "data": {
      "text/plain": [
       "False"
      ]
     },
     "execution_count": 9,
     "metadata": {},
     "output_type": "execute_result"
    }
   ],
   "source": [
    "## TEST Case 5\n",
    "equalsWhenOneCharRemoved(\"abcede\",\"abcdd\")"
   ]
  },
  {
   "cell_type": "code",
   "execution_count": 10,
   "metadata": {},
   "outputs": [
    {
     "data": {
      "text/plain": [
       "False"
      ]
     },
     "execution_count": 10,
     "metadata": {},
     "output_type": "execute_result"
    }
   ],
   "source": [
    "## TEST Case 6\n",
    "equalsWhenOneCharRemoved(\"xy\",\"xx\")"
   ]
  },
  {
   "cell_type": "code",
   "execution_count": null,
   "metadata": {},
   "outputs": [],
   "source": []
  }
 ],
 "metadata": {
  "kernelspec": {
   "display_name": "Python 3",
   "language": "python",
   "name": "python3"
  },
  "language_info": {
   "codemirror_mode": {
    "name": "ipython",
    "version": 3
   },
   "file_extension": ".py",
   "mimetype": "text/x-python",
   "name": "python",
   "nbconvert_exporter": "python",
   "pygments_lexer": "ipython3",
   "version": "3.7.4"
  }
 },
 "nbformat": 4,
 "nbformat_minor": 2
}
